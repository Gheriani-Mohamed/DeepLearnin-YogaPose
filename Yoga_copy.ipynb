{
 "cells": [
  {
   "cell_type": "code",
   "id": "6efd0611-f209-4b8f-b8cd-299f4b4a4e28",
   "metadata": {},
   "source": [
    "import kagglehub\n",
    "import os\n",
    "import shutil\n",
    "\n",
    "# Download the latest version\n",
    "os.system(\"pip install -r requirements.txt\")\n",
    "os.system(\"python -m pip install --upgrade certifi\")\n",
    "# Process dataset and train model\n",
    "dataset_path = kagglehub.dataset_download(\"niharika41298/yoga-poses-dataset\")\n",
    "shutil.move(dataset_path, \"./Dataset\")"
   ],
   "outputs": [],
   "execution_count": null
  },
  {
   "cell_type": "code",
   "id": "16931c8b-9598-4408-a831-ee1d4570fc27",
   "metadata": {
    "ExecuteTime": {
     "end_time": "2025-05-28T16:26:17.075462Z",
     "start_time": "2025-05-28T16:23:35.834735Z"
    }
   },
   "source": [
    "import os\n",
    "import cv2\n",
    "import numpy as np\n",
    "import pandas as pd\n",
    "import pickle\n",
    "from tqdm import tqdm\n",
    "import mediapipe as mp\n",
    "import matplotlib.pyplot as plt\n",
    "\n",
    "# Initialize MediaPipe Pose\n",
    "mp_pose = mp.solutions.pose\n",
    "pose = mp_pose.Pose(static_image_mode=True, min_detection_confidence=0.5)\n",
    "\n",
    "\n",
    "def calculate_angle(a, b, c):\n",
    "    \"\"\"Calculate the angle between three points\"\"\"\n",
    "    a, b, c = np.array(a), np.array(b), np.array(c)\n",
    "    ba = a - b\n",
    "    bc = c - b\n",
    "    cosine_angle = np.dot(ba, bc) / (np.linalg.norm(ba) * np.linalg.norm(bc))\n",
    "    return np.degrees(np.arccos(np.clip(cosine_angle, -1, 1)))\n",
    "\n",
    "\n",
    "def extract_features(image_path):\n",
    "    \"\"\"Extract both image and biomechanical features from a single image\"\"\"\n",
    "    img = cv2.imread(image_path)\n",
    "    if img is None:\n",
    "        return None\n",
    "\n",
    "    # Process image with MediaPipe\n",
    "    results = pose.process(cv2.cvtColor(img, cv2.COLOR_BGR2RGB))\n",
    "\n",
    "    if not results.pose_landmarks:\n",
    "        return None\n",
    "\n",
    "    # Get landmarks\n",
    "    landmarks = results.pose_landmarks.landmark\n",
    "\n",
    "    # Calculate key angles\n",
    "    points = {\n",
    "        'left_shoulder': [landmarks[11].x, landmarks[11].y],\n",
    "        'right_shoulder': [landmarks[12].x, landmarks[12].y],\n",
    "        'left_elbow': [landmarks[13].x, landmarks[13].y],\n",
    "        'right_elbow': [landmarks[14].x, landmarks[14].y],\n",
    "        'left_wrist': [landmarks[15].x, landmarks[15].y],\n",
    "        'right_wrist': [landmarks[16].x, landmarks[16].y],\n",
    "        'left_hip': [landmarks[23].x, landmarks[23].y],\n",
    "        'right_hip': [landmarks[24].x, landmarks[24].y],\n",
    "        'left_knee': [landmarks[25].x, landmarks[25].y],\n",
    "        'right_knee': [landmarks[26].x, landmarks[26].y],\n",
    "        'left_ankle': [landmarks[27].x, landmarks[27].y],\n",
    "        'right_ankle': [landmarks[28].x, landmarks[28].y]\n",
    "    }\n",
    "\n",
    "    angles = {\n",
    "        'left_elbow': calculate_angle(points['left_shoulder'], points['left_elbow'], points['left_wrist']),\n",
    "        'right_elbow': calculate_angle(points['right_shoulder'], points['right_elbow'], points['right_wrist']),\n",
    "        'left_shoulder': calculate_angle(points['left_elbow'], points['left_shoulder'], points['left_hip']),\n",
    "        'right_shoulder': calculate_angle(points['right_elbow'], points['right_shoulder'], points['right_hip']),\n",
    "        'left_hip': calculate_angle(points['left_shoulder'], points['left_hip'], points['left_knee']),\n",
    "        'right_hip': calculate_angle(points['right_shoulder'], points['right_hip'], points['right_knee']),\n",
    "        'left_knee': calculate_angle(points['left_hip'], points['left_knee'], points['left_ankle']),\n",
    "        'right_knee': calculate_angle(points['right_hip'], points['right_knee'], points['right_ankle']),\n",
    "        'spine': calculate_angle(points['left_shoulder'], points['left_hip'], points['left_ankle'])\n",
    "    }\n",
    "\n",
    "    # Prepare image for CNN\n",
    "    img_resized = cv2.resize(img, (224, 224))\n",
    "    img_normalized = img_resized / 255.0\n",
    "\n",
    "    return {\n",
    "        'image': img_normalized,\n",
    "        'angles': list(angles.values()),\n",
    "        'landmarks': points\n",
    "    }\n",
    "\n",
    "\n",
    "def process_dataset(dataset_path):\n",
    "    \"\"\"Process the entire dataset and save features\"\"\"\n",
    "    data = []\n",
    "    pose_classes = [d for d in os.listdir(dataset_path)\n",
    "                    if os.path.isdir(os.path.join(dataset_path, d))]\n",
    "\n",
    "    for pose_class in pose_classes:\n",
    "        class_dir = os.path.join(dataset_path, pose_class)\n",
    "        image_files = [f for f in os.listdir(class_dir)\n",
    "                       if f.lower().endswith(('.png', '.jpg', '.jpeg'))]\n",
    "\n",
    "        for img_file in tqdm(image_files, desc=f\"Processing {pose_class}\"):\n",
    "            img_path = os.path.join(class_dir, img_file)\n",
    "            features = extract_features(img_path)\n",
    "\n",
    "            if features is not None:\n",
    "                features['class'] = pose_class\n",
    "                data.append(features)\n",
    "\n",
    "    # Convert to DataFrame\n",
    "    df = pd.DataFrame(data)\n",
    "\n",
    "    # Bar Chart: Number of Images per Pose Class\n",
    "    class_counts = df['class'].value_counts()\n",
    "    plt.figure(figsize=(8, 5))\n",
    "    plt.bar(class_counts.index, class_counts.values, color='skyblue')\n",
    "    plt.xlabel('Pose Class')\n",
    "    plt.ylabel('Number of Images')\n",
    "    plt.title('Images per Pose Class')\n",
    "    plt.show()\n",
    "\n",
    "    # Histogram: Distribution of a Specific Angle (e.g., left_knee)\n",
    "    left_knee_angles = [angles[6] for angles in df['angles']]\n",
    "    plt.figure(figsize=(8, 5))\n",
    "    plt.hist(left_knee_angles, bins=20, color='orange', edgecolor='black')\n",
    "    plt.xlabel('Left Knee Angle (degrees)')\n",
    "    plt.ylabel('Frequency')\n",
    "    plt.title('Distribution of Left Knee Angles')\n",
    "    plt.show()\n",
    "\n",
    "    # Pie Chart: Proportion of Each Pose Class\n",
    "    plt.figure(figsize=(6, 6))\n",
    "    plt.pie(class_counts.values, labels=class_counts.index, autopct='%1.1f%%', startangle=140)\n",
    "    plt.title('Pose Class Distribution')\n",
    "    plt.axis('equal')\n",
    "    plt.show()\n",
    "\n",
    "    # Save processed data\n",
    "    df.to_pickle(\"./Model/yoga_dataset_processed.pkl\")\n",
    "\n",
    "    # Calculate pose standards\n",
    "    pose_standards = df.groupby('class')['angles'].apply(\n",
    "        lambda x: {\n",
    "            'median': np.median(np.vstack(x), axis=0),\n",
    "            'std': np.std(np.vstack(x), axis=0)\n",
    "        }\n",
    "    ).to_dict()\n",
    "\n",
    "    with open('./Model/pose_standards.pkl', 'wb') as f:\n",
    "        pickle.dump(pose_standards, f)\n",
    "\n",
    "    return df, pose_standards\n",
    "\n",
    "\n",
    "if __name__ == \"__main__\":\n",
    "    dataset_path = \"Dataset/1/DATASET/TRAIN\"\n",
    "    df, standards = process_dataset(dataset_path)"
   ],
   "outputs": [
    {
     "name": "stderr",
     "output_type": "stream",
     "text": [
      "Processing downdog: 100%|██████████| 222/222 [00:23<00:00,  9.43it/s]\n",
      "Processing goddess: 100%|██████████| 180/180 [00:21<00:00,  8.53it/s]\n",
      "Processing plank: 100%|██████████| 266/266 [00:31<00:00,  8.32it/s]\n",
      "Processing tree: 100%|██████████| 160/160 [00:19<00:00,  8.17it/s]\n",
      "Processing warrior2: 100%|██████████| 252/252 [00:25<00:00, 10.04it/s]\n"
     ]
    },
    {
     "data": {
      "text/plain": [
       "<Figure size 800x500 with 1 Axes>"
      ],
      "image/png": "[encoded data removed]"
     },
     "metadata": {},
     "output_type": "display_data"
    },
    {
     "data": {
      "text/plain": [
       "<Figure size 800x500 with 1 Axes>"
      ],
      "image/png": "[encoded data removed]"
     },
     "metadata": {},
     "output_type": "display_data"
    },
    {
     "data": {
      "text/plain": [
       "<Figure size 600x600 with 1 Axes>"
      ],
      "image/png": "[encoded data removed]"
     },
     "metadata": {},
     "output_type": "display_data"
    }
   ],
   "execution_count": 2
  },
  {
   "cell_type": "code",
   "id": "0c6c882d-fd37-4189-ad0c-45c03834a6a8",
   "metadata": {
    "ExecuteTime": {
     "end_time": "2025-05-28T16:34:59.087839Z",
     "start_time": "2025-05-28T16:26:41.652153Z"
    }
   },
   "source": [
    "import tensorflow as tf\n",
    "from tensorflow.keras import layers, models\n",
    "from tensorflow.keras.callbacks import EarlyStopping, ModelCheckpoint, ReduceLROnPlateau\n",
    "import numpy as np\n",
    "import pandas as pd\n",
    "from sklearn.model_selection import train_test_split\n",
    "import pickle\n",
    "import matplotlib.pyplot as plt\n",
    "\n",
    "\n",
    "def create_hybrid_model(num_classes=5):\n",
    "    \"\"\"Create a model that combines CNN and biomechanical features\"\"\"\n",
    "    # Image branch (CNN)\n",
    "    image_input = layers.Input(shape=(224, 224, 3), name='image_input')\n",
    "\n",
    "    x = layers.Conv2D(32, (3, 3), activation='relu')(image_input)\n",
    "    x = layers.MaxPooling2D((2, 2))(x)\n",
    "    x = layers.Conv2D(64, (3, 3), activation='relu')(x)\n",
    "    x = layers.MaxPooling2D((2, 2))(x)\n",
    "    x = layers.Conv2D(128, (3, 3), activation='relu')(x)\n",
    "    x = layers.GlobalAveragePooling2D()(x)\n",
    "\n",
    "    # Angle branch\n",
    "    angle_input = layers.Input(shape=(9,), name='angle_input')\n",
    "    a = layers.Dense(32, activation='relu')(angle_input)\n",
    "\n",
    "    # Combined features\n",
    "    combined = layers.concatenate([x, a])\n",
    "\n",
    "    # Classifier\n",
    "    z = layers.Dense(128, activation='relu')(combined)\n",
    "    z = layers.Dropout(0.5)(z)\n",
    "    output = layers.Dense(num_classes, activation='softmax')(z)\n",
    "\n",
    "    return models.Model(inputs=[image_input, angle_input], outputs=output)\n",
    "\n",
    "\n",
    "def prepare_data(df):\n",
    "    \"\"\"Prepare data for training\"\"\"\n",
    "    # Convert images to array\n",
    "    X_images = np.array([x for x in df['image']])\n",
    "\n",
    "    # Convert angles to array\n",
    "    X_angles = np.array([x for x in df['angles']])\n",
    "\n",
    "    # Convert labels to one-hot\n",
    "    class_to_idx = {cls: i for i, cls in enumerate(df['class'].unique())}\n",
    "    y = tf.keras.utils.to_categorical(df['class'].map(class_to_idx))\n",
    "\n",
    "    return X_images, X_angles, y, class_to_idx\n",
    "\n",
    "\n",
    "def train_model():\n",
    "    # Load processed data\n",
    "    df = pd.read_pickle('Model/yoga_dataset_processed.pkl')\n",
    "\n",
    "    # Prepare data\n",
    "    X_img, X_ang, y, class_to_idx = prepare_data(df)\n",
    "\n",
    "    # Split data - USE THE SAME VARIABLE NAMES RETURNED FROM prepare_data()\n",
    "    (X_img_train, X_img_val,\n",
    "     X_ang_train, X_ang_val,\n",
    "     y_train, y_val) = train_test_split(X_img, X_ang, y, test_size=0.2)\n",
    "\n",
    "    # Create model\n",
    "    model = create_hybrid_model(num_classes=len(class_to_idx))\n",
    "\n",
    "    # Compile\n",
    "    model.compile(\n",
    "        optimizer='adam',\n",
    "        loss='categorical_crossentropy',\n",
    "        metrics=['accuracy']\n",
    "    )\n",
    "\n",
    "    # Define callbacks\n",
    "    training_callbacks = [\n",
    "        EarlyStopping(patience=5, restore_best_weights=True),\n",
    "        ModelCheckpoint('best_model.h5', save_best_only=True),\n",
    "        ReduceLROnPlateau(factor=0.1, patience=3)\n",
    "    ]\n",
    "\n",
    "    # Train\n",
    "    history = model.fit(\n",
    "        x={'image_input': X_img_train, 'angle_input': X_ang_train},\n",
    "        y=y_train,\n",
    "        validation_data=({'image_input': X_img_val, 'angle_input': X_ang_val}, y_val),\n",
    "        epochs=10,\n",
    "        batch_size=32,\n",
    "        callbacks=training_callbacks\n",
    "    )\n",
    "\n",
    "    plt.figure(figsize=(12, 5))\n",
    "    plt.subplot(1, 2, 1)\n",
    "    plt.plot(history.history['loss'], label='Train Loss')\n",
    "    plt.plot(history.history['val_loss'], label='Val Loss')\n",
    "    plt.legend()\n",
    "    plt.title('Loss')\n",
    "\n",
    "    plt.subplot(1, 2, 2)\n",
    "    plt.plot(history.history['accuracy'], label='Train Acc')\n",
    "    plt.plot(history.history['val_accuracy'], label='Val Acc')\n",
    "    plt.legend()\n",
    "    plt.title('Accuracy')\n",
    "\n",
    "    plt.show()\n",
    "\n",
    "    # Save class mapping\n",
    "    idx_to_class = {v: k for k, v in class_to_idx.items()}  # Reverse mapping\n",
    "    with open('Model/class_mapping.pkl', 'wb') as f:\n",
    "        pickle.dump(idx_to_class, f)  # New: {0:'downdog', 1:'warrior'}\n",
    "\n",
    "    val_loss, val_acc = model.evaluate(\n",
    "        {'image_input': X_img_val, 'angle_input': X_ang_val},\n",
    "        y_val,\n",
    "        verbose=0\n",
    "    )\n",
    "    print(f\"Final Validation Accuracy: {val_acc * 100:.2f}%\")\n",
    "    print(f\"Final Validation Loss: {val_loss * 100:.2f}%\")\n",
    "\n",
    "    return model, history\n",
    "\n",
    "\n",
    "if __name__ == \"__main__\":\n",
    "    model, history = train_model()"
   ],
   "outputs": [
    {
     "name": "stdout",
     "output_type": "stream",
     "text": [
      "Epoch 1/10\n",
      "\u001B[1m26/26\u001B[0m \u001B[32m━━━━━━━━━━━━━━━━━━━━\u001B[0m\u001B[37m\u001B[0m \u001B[1m0s\u001B[0m 982ms/step - accuracy: 0.2649 - loss: 31.3808"
     ]
    },
    {
     "name": "stderr",
     "output_type": "stream",
     "text": [
      "WARNING:absl:You are saving your model as an HDF5 file via `model.save()` or `keras.saving.save_model(model)`. This file format is considered legacy. We recommend using instead the native Keras format, e.g. `model.save('my_model.keras')` or `keras.saving.save_model(model, 'my_model.keras')`. \n"
     ]
    },
    {
     "name": "stdout",
     "output_type": "stream",
     "text": [
      "\u001B[1m26/26\u001B[0m \u001B[32m━━━━━━━━━━━━━━━━━━━━\u001B[0m\u001B[37m\u001B[0m \u001B[1m149s\u001B[0m 2s/step - accuracy: 0.2669 - loss: 31.0481 - val_accuracy: 0.6364 - val_loss: 3.0389 - learning_rate: 0.0010\n",
      "Epoch 2/10\n",
      "\u001B[1m26/26\u001B[0m \u001B[32m━━━━━━━━━━━━━━━━━━━━\u001B[0m\u001B[37m\u001B[0m \u001B[1m0s\u001B[0m 1s/step - accuracy: 0.4346 - loss: 9.1014"
     ]
    },
    {
     "name": "stderr",
     "output_type": "stream",
     "text": [
      "WARNING:absl:You are saving your model as an HDF5 file via `model.save()` or `keras.saving.save_model(model)`. This file format is considered legacy. We recommend using instead the native Keras format, e.g. `model.save('my_model.keras')` or `keras.saving.save_model(model, 'my_model.keras')`. \n"
     ]
    },
    {
     "name": "stdout",
     "output_type": "stream",
     "text": [
      "\u001B[1m26/26\u001B[0m \u001B[32m━━━━━━━━━━━━━━━━━━━━\u001B[0m\u001B[37m\u001B[0m \u001B[1m29s\u001B[0m 1s/step - accuracy: 0.4358 - loss: 9.0140 - val_accuracy: 0.7225 - val_loss: 1.3462 - learning_rate: 0.0010\n",
      "Epoch 3/10\n",
      "\u001B[1m26/26\u001B[0m \u001B[32m━━━━━━━━━━━━━━━━━━━━\u001B[0m\u001B[37m\u001B[0m \u001B[1m0s\u001B[0m 1s/step - accuracy: 0.5173 - loss: 2.3278"
     ]
    },
    {
     "name": "stderr",
     "output_type": "stream",
     "text": [
      "WARNING:absl:You are saving your model as an HDF5 file via `model.save()` or `keras.saving.save_model(model)`. This file format is considered legacy. We recommend using instead the native Keras format, e.g. `model.save('my_model.keras')` or `keras.saving.save_model(model, 'my_model.keras')`. \n"
     ]
    },
    {
     "name": "stdout",
     "output_type": "stream",
     "text": [
      "\u001B[1m26/26\u001B[0m \u001B[32m━━━━━━━━━━━━━━━━━━━━\u001B[0m\u001B[37m\u001B[0m \u001B[1m31s\u001B[0m 1s/step - accuracy: 0.5174 - loss: 2.3162 - val_accuracy: 0.8038 - val_loss: 0.8814 - learning_rate: 0.0010\n",
      "Epoch 4/10\n",
      "\u001B[1m26/26\u001B[0m \u001B[32m━━━━━━━━━━━━━━━━━━━━\u001B[0m\u001B[37m\u001B[0m \u001B[1m0s\u001B[0m 1s/step - accuracy: 0.4920 - loss: 1.6282"
     ]
    },
    {
     "name": "stderr",
     "output_type": "stream",
     "text": [
      "WARNING:absl:You are saving your model as an HDF5 file via `model.save()` or `keras.saving.save_model(model)`. This file format is considered legacy. We recommend using instead the native Keras format, e.g. `model.save('my_model.keras')` or `keras.saving.save_model(model, 'my_model.keras')`. \n"
     ]
    },
    {
     "name": "stdout",
     "output_type": "stream",
     "text": [
      "\u001B[1m26/26\u001B[0m \u001B[32m━━━━━━━━━━━━━━━━━━━━\u001B[0m\u001B[37m\u001B[0m \u001B[1m34s\u001B[0m 1s/step - accuracy: 0.4933 - loss: 1.6219 - val_accuracy: 0.8038 - val_loss: 0.8522 - learning_rate: 0.0010\n",
      "Epoch 5/10\n",
      "\u001B[1m26/26\u001B[0m \u001B[32m━━━━━━━━━━━━━━━━━━━━\u001B[0m\u001B[37m\u001B[0m \u001B[1m0s\u001B[0m 1s/step - accuracy: 0.6110 - loss: 1.1152"
     ]
    },
    {
     "name": "stderr",
     "output_type": "stream",
     "text": [
      "WARNING:absl:You are saving your model as an HDF5 file via `model.save()` or `keras.saving.save_model(model)`. This file format is considered legacy. We recommend using instead the native Keras format, e.g. `model.save('my_model.keras')` or `keras.saving.save_model(model, 'my_model.keras')`. \n"
     ]
    },
    {
     "name": "stdout",
     "output_type": "stream",
     "text": [
      "\u001B[1m26/26\u001B[0m \u001B[32m━━━━━━━━━━━━━━━━━━━━\u001B[0m\u001B[37m\u001B[0m \u001B[1m33s\u001B[0m 1s/step - accuracy: 0.6114 - loss: 1.1190 - val_accuracy: 0.7943 - val_loss: 0.7991 - learning_rate: 0.0010\n",
      "Epoch 6/10\n",
      "\u001B[1m26/26\u001B[0m \u001B[32m━━━━━━━━━━━━━━━━━━━━\u001B[0m\u001B[37m\u001B[0m \u001B[1m0s\u001B[0m 1s/step - accuracy: 0.5843 - loss: 1.2301"
     ]
    },
    {
     "name": "stderr",
     "output_type": "stream",
     "text": [
      "WARNING:absl:You are saving your model as an HDF5 file via `model.save()` or `keras.saving.save_model(model)`. This file format is considered legacy. We recommend using instead the native Keras format, e.g. `model.save('my_model.keras')` or `keras.saving.save_model(model, 'my_model.keras')`. \n"
     ]
    },
    {
     "name": "stdout",
     "output_type": "stream",
     "text": [
      "\u001B[1m26/26\u001B[0m \u001B[32m━━━━━━━━━━━━━━━━━━━━\u001B[0m\u001B[37m\u001B[0m \u001B[1m32s\u001B[0m 1s/step - accuracy: 0.5840 - loss: 1.2303 - val_accuracy: 0.8038 - val_loss: 0.7543 - learning_rate: 0.0010\n",
      "Epoch 7/10\n",
      "\u001B[1m26/26\u001B[0m \u001B[32m━━━━━━━━━━━━━━━━━━━━\u001B[0m\u001B[37m\u001B[0m \u001B[1m0s\u001B[0m 1s/step - accuracy: 0.6323 - loss: 1.1028"
     ]
    },
    {
     "name": "stderr",
     "output_type": "stream",
     "text": [
      "WARNING:absl:You are saving your model as an HDF5 file via `model.save()` or `keras.saving.save_model(model)`. This file format is considered legacy. We recommend using instead the native Keras format, e.g. `model.save('my_model.keras')` or `keras.saving.save_model(model, 'my_model.keras')`. \n"
     ]
    },
    {
     "name": "stdout",
     "output_type": "stream",
     "text": [
      "\u001B[1m26/26\u001B[0m \u001B[32m━━━━━━━━━━━━━━━━━━━━\u001B[0m\u001B[37m\u001B[0m \u001B[1m33s\u001B[0m 1s/step - accuracy: 0.6325 - loss: 1.1027 - val_accuracy: 0.8182 - val_loss: 0.7440 - learning_rate: 0.0010\n",
      "Epoch 8/10\n",
      "\u001B[1m26/26\u001B[0m \u001B[32m━━━━━━━━━━━━━━━━━━━━\u001B[0m\u001B[37m\u001B[0m \u001B[1m0s\u001B[0m 1s/step - accuracy: 0.6232 - loss: 1.0845"
     ]
    },
    {
     "name": "stderr",
     "output_type": "stream",
     "text": [
      "WARNING:absl:You are saving your model as an HDF5 file via `model.save()` or `keras.saving.save_model(model)`. This file format is considered legacy. We recommend using instead the native Keras format, e.g. `model.save('my_model.keras')` or `keras.saving.save_model(model, 'my_model.keras')`. \n"
     ]
    },
    {
     "name": "stdout",
     "output_type": "stream",
     "text": [
      "\u001B[1m26/26\u001B[0m \u001B[32m━━━━━━━━━━━━━━━━━━━━\u001B[0m\u001B[37m\u001B[0m \u001B[1m33s\u001B[0m 1s/step - accuracy: 0.6242 - loss: 1.0808 - val_accuracy: 0.8278 - val_loss: 0.7062 - learning_rate: 0.0010\n",
      "Epoch 9/10\n",
      "\u001B[1m26/26\u001B[0m \u001B[32m━━━━━━━━━━━━━━━━━━━━\u001B[0m\u001B[37m\u001B[0m \u001B[1m0s\u001B[0m 1s/step - accuracy: 0.6802 - loss: 0.9607"
     ]
    },
    {
     "name": "stderr",
     "output_type": "stream",
     "text": [
      "WARNING:absl:You are saving your model as an HDF5 file via `model.save()` or `keras.saving.save_model(model)`. This file format is considered legacy. We recommend using instead the native Keras format, e.g. `model.save('my_model.keras')` or `keras.saving.save_model(model, 'my_model.keras')`. \n"
     ]
    },
    {
     "name": "stdout",
     "output_type": "stream",
     "text": [
      "\u001B[1m26/26\u001B[0m \u001B[32m━━━━━━━━━━━━━━━━━━━━\u001B[0m\u001B[37m\u001B[0m \u001B[1m33s\u001B[0m 1s/step - accuracy: 0.6802 - loss: 0.9610 - val_accuracy: 0.8278 - val_loss: 0.6703 - learning_rate: 0.0010\n",
      "Epoch 10/10\n",
      "\u001B[1m26/26\u001B[0m \u001B[32m━━━━━━━━━━━━━━━━━━━━\u001B[0m\u001B[37m\u001B[0m \u001B[1m0s\u001B[0m 1s/step - accuracy: 0.7176 - loss: 0.8359"
     ]
    },
    {
     "name": "stderr",
     "output_type": "stream",
     "text": [
      "WARNING:absl:You are saving your model as an HDF5 file via `model.save()` or `keras.saving.save_model(model)`. This file format is considered legacy. We recommend using instead the native Keras format, e.g. `model.save('my_model.keras')` or `keras.saving.save_model(model, 'my_model.keras')`. \n"
     ]
    },
    {
     "name": "stdout",
     "output_type": "stream",
     "text": [
      "\u001B[1m26/26\u001B[0m \u001B[32m━━━━━━━━━━━━━━━━━━━━\u001B[0m\u001B[37m\u001B[0m \u001B[1m33s\u001B[0m 1s/step - accuracy: 0.7170 - loss: 0.8387 - val_accuracy: 0.8182 - val_loss: 0.6475 - learning_rate: 0.0010\n"
     ]
    },
    {
     "name": "stderr",
     "output_type": "stream",
     "text": [
      "C:\\Users\\sirine\\Documents\\Yoginova\\DeepLearnin-YogaPose\\venv\\Lib\\site-packages\\IPython\\core\\pylabtools.py:170: UserWarning: Creating legend with loc=\"best\" can be slow with large amounts of data.\n",
      "  fig.canvas.print_figure(bytes_io, **kw)\n"
     ]
    },
    {
     "data": {
      "text/plain": [
       "<Figure size 1200x500 with 2 Axes>"
      ],
      "image/png": "[encoded data removed]"
     },
     "metadata": {},
     "output_type": "display_data"
    },
    {
     "name": "stdout",
     "output_type": "stream",
     "text": [
      "Final Validation Accuracy: 81.82%\n",
      "Final Validation Loss: 64.75%\n"
     ]
    }
   ],
   "execution_count": 3
  },
  {
   "cell_type": "code",
   "execution_count": 10,
   "id": "2db6573a-1a06-4a52-b66b-be48b909ecac",
   "metadata": {
    "ExecuteTime": {
     "end_time": "2025-05-27T20:06:38.837608Z",
     "start_time": "2025-05-27T20:06:30.440677Z"
    }
   },
   "outputs": [
    {
     "name": "stdout",
     "output_type": "stream",
     "text": [
      "Requirement already satisfied: pyttsx3 in e:\\travail firas\\esprit\\calcul scientifique\\python\\exercices\\.venv\\lib\\site-packages (2.98)\n",
      "Requirement already satisfied: comtypes in e:\\travail firas\\esprit\\calcul scientifique\\python\\exercices\\.venv\\lib\\site-packages (from pyttsx3) (1.4.11)\n",
      "Requirement already satisfied: pypiwin32 in e:\\travail firas\\esprit\\calcul scientifique\\python\\exercices\\.venv\\lib\\site-packages (from pyttsx3) (223)\n",
      "Requirement already satisfied: pywin32 in e:\\travail firas\\esprit\\calcul scientifique\\python\\exercices\\.venv\\lib\\site-packages (from pyttsx3) (306)\n"
     ]
    },
    {
     "name": "stderr",
     "output_type": "stream",
     "text": [
      "\n",
      "[notice] A new release of pip is available: 23.2.1 -> 25.1.1\n",
      "[notice] To update, run: python.exe -m pip install --upgrade pip\n",
      "ERROR: Could not find a version that satisfies the requirement espeak (from versions: none)\n",
      "ERROR: No matching distribution found for espeak\n",
      "\n",
      "[notice] A new release of pip is available: 23.2.1 -> 25.1.1\n",
      "[notice] To update, run: python.exe -m pip install --upgrade pip\n"
     ]
    }
   ],
   "source": [
    "\n",
    "!pip install pyttsx3\n",
    "!pip install espeak  \n"
   ]
  },
  {
   "cell_type": "code",
   "execution_count": 12,
   "id": "40059ca4-4093-49e3-aad2-ddee760c6aad",
   "metadata": {
    "ExecuteTime": {
     "end_time": "2025-05-27T20:08:13.083355Z",
     "start_time": "2025-05-27T20:07:13.137854Z"
    },
    "scrolled": true
   },
   "outputs": [
    {
     "name": "stderr",
     "output_type": "stream",
     "text": [
      "WARNING:absl:Compiled the loaded model, but the compiled metrics have yet to be built. `model.compile_metrics` will be empty until you train or evaluate the model.\n"
     ]
    }
   ],
   "source": [
    "import cv2\n",
    "import numpy as np\n",
    "import tensorflow as tf\n",
    "import mediapipe as mp\n",
    "import pickle\n",
    "import pyttsx3\n",
    "import time\n",
    "import threading\n",
    "\n",
    "# Initialize MediaPipe components\n",
    "mp_drawing = mp.solutions.drawing_utils\n",
    "mp_pose = mp.solutions.pose\n",
    "\n",
    "# Configure TensorFlow for GPU\n",
    "gpus = tf.config.experimental.list_physical_devices('GPU')\n",
    "if gpus:\n",
    "    try:\n",
    "        for gpu in gpus:\n",
    "            tf.config.experimental.set_memory_growth(gpu, True)\n",
    "    except RuntimeError as e:\n",
    "        print(e)\n",
    "\n",
    "# MediaPipe Pose Configuration\n",
    "pose = mp_pose.Pose(\n",
    "    static_image_mode=False,\n",
    "    model_complexity=1,\n",
    "    smooth_landmarks=True,\n",
    "    min_detection_confidence=0.7,\n",
    "    min_tracking_confidence=0.7\n",
    ")\n",
    "\n",
    "\n",
    "# Threaded Voice Engine\n",
    "class VoiceCoach:\n",
    "    def __init__(self):\n",
    "        self.engine = pyttsx3.init()\n",
    "        self.engine.setProperty('rate', 160)\n",
    "        self.lock = threading.Lock()\n",
    "\n",
    "    def speak(self, msg):\n",
    "        def run():\n",
    "            with self.lock:\n",
    "                self.engine.say(msg)\n",
    "                self.engine.runAndWait()\n",
    "\n",
    "        threading.Thread(target=run).start()\n",
    "\n",
    "\n",
    "voice = VoiceCoach()\n",
    "\n",
    "\n",
    "# Core Functions\n",
    "def calculate_angle(a, b, c):\n",
    "    a = np.array(a)\n",
    "    b = np.array(b)\n",
    "    c = np.array(c)\n",
    "\n",
    "    radians = np.arctan2(c[1] - b[1], c[0] - b[0]) - np.arctan2(a[1] - b[1], a[0] - b[0])\n",
    "    angle = np.abs(radians * 180.0 / np.pi)\n",
    "\n",
    "    if angle > 180.0:\n",
    "        angle = 360 - angle\n",
    "\n",
    "    return angle\n",
    "\n",
    "\n",
    "def get_angles(landmarks, frame_shape):\n",
    "    points = {}\n",
    "    indices = [11, 12, 13, 14, 15, 16, 23, 24, 25, 26, 27, 28]  # Shoulders, elbows, wrists, hips, knees, ankles\n",
    "\n",
    "    for idx in indices:\n",
    "        landmark = landmarks.landmark[idx]\n",
    "        points[idx] = [landmark.x * frame_shape[1], landmark.y * frame_shape[0]]\n",
    "\n",
    "    try:\n",
    "        angles = np.array([\n",
    "            calculate_angle(points[11], points[13], points[15]),  # Left elbow\n",
    "            calculate_angle(points[12], points[14], points[16]),  # Right elbow\n",
    "            calculate_angle(points[13], points[11], points[23]),  # Left shoulder\n",
    "            calculate_angle(points[14], points[12], points[24]),  # Right shoulder\n",
    "            calculate_angle(points[11], points[23], points[25]),  # Left hip\n",
    "            calculate_angle(points[12], points[24], points[26]),  # Right hip\n",
    "            calculate_angle(points[23], points[25], points[27]),  # Left knee\n",
    "            calculate_angle(points[24], points[26], points[28]),  # Right knee\n",
    "            calculate_angle(points[11], points[23], points[27])  # Spine\n",
    "        ])\n",
    "        return points, angles\n",
    "    except KeyError as e:\n",
    "        print(f\"Missing landmark: {e}\")\n",
    "        return None, None\n",
    "\n",
    "\n",
    "def predict_pose(model, img_input, angle_input, idx_to_class):\n",
    "    pred = model.predict({\n",
    "        'image_input': np.expand_dims(img_input, axis=0),\n",
    "        'angle_input': np.expand_dims(angle_input, axis=0)\n",
    "    }, verbose=0)\n",
    "    return idx_to_class[np.argmax(pred)], np.max(pred)\n",
    "\n",
    "\n",
    "def get_feedback(pose_name, angles, confidence):\n",
    "    if angles is None:\n",
    "        return [\"Can't detect all body points\"]\n",
    "\n",
    "    if confidence > 0.95:\n",
    "        return [\"Perfect! Keep going\"]\n",
    "\n",
    "    feedback = []\n",
    "\n",
    "    if pose_name == \"warrior2\":\n",
    "        if angles[6] < 80:\n",
    "            feedback.append(\"Bend front knee more\")\n",
    "        elif angles[6] > 100:\n",
    "            feedback.append(\"Reduce knee bend\")\n",
    "        if angles[7] < 170: feedback.append(\"Straighten back leg\")\n",
    "\n",
    "    elif pose_name == \"tree\":\n",
    "        if angles[7] < 170: feedback.append(\"Straighten standing leg\")\n",
    "        if angles[6] > 110: feedback.append(\"Bring knee inward\")\n",
    "\n",
    "    elif pose_name == \"goddess\":\n",
    "        if angles[6] > 120: feedback.append(\"Sink deeper into squat\")\n",
    "        if angles[8] < 160: feedback.append(\"Tuck pelvis\")\n",
    "\n",
    "    elif pose_name == \"downdog\":\n",
    "        if angles[0] > 170: feedback.append(\"Microbend elbows\")\n",
    "        if angles[8] < 160: feedback.append(\"Lift hips higher\")\n",
    "\n",
    "    elif pose_name == \"plank\":\n",
    "        if angles[8] < 160: feedback.append(\"Straighten body line\")\n",
    "        if angles[0] > 170: feedback.append(\"Soften elbows\")\n",
    "\n",
    "    return feedback[:1] if feedback else [\"Adjust your pose\"]\n",
    "\n",
    "\n",
    "# Main Application\n",
    "def main():\n",
    "    # Load model\n",
    "    model = tf.keras.models.load_model('Model/best_model.h5')\n",
    "    with open('Model/class_mapping.pkl', 'rb') as f:\n",
    "        idx_to_class = pickle.load(f)\n",
    "\n",
    "    cap = cv2.VideoCapture(0)\n",
    "    cap.set(cv2.CAP_PROP_FRAME_WIDTH, 1280)\n",
    "    cap.set(cv2.CAP_PROP_FRAME_HEIGHT, 720)\n",
    "\n",
    "    last_feedback = time.time()\n",
    "    prev_pose = None\n",
    "\n",
    "    while cap.isOpened():\n",
    "        ret, frame = cap.read()\n",
    "        if not ret:\n",
    "            break\n",
    "\n",
    "        # Process frame\n",
    "        rgb = cv2.cvtColor(frame, cv2.COLOR_BGR2RGB)\n",
    "        results = pose.process(rgb)\n",
    "\n",
    "        if results.pose_landmarks:\n",
    "            points, angles = get_angles(results.pose_landmarks, frame.shape)\n",
    "\n",
    "            if angles is not None:\n",
    "                img_input = cv2.resize(rgb, (224, 224)) / 255.0\n",
    "                pose_name, confidence = predict_pose(model, img_input, angles, idx_to_class)\n",
    "\n",
    "                # Display angles for debugging\n",
    "                angle_text = \" \".join([f\"{a:.1f}°\" for a in angles])\n",
    "                cv2.putText(frame, angle_text, (30, 100),\n",
    "                            cv2.FONT_HERSHEY_SIMPLEX, 0.7, (255, 255, 255), 2)\n",
    "\n",
    "                # Give feedback periodically\n",
    "                if time.time() - last_feedback > 3:\n",
    "                    feedback = get_feedback(pose_name, angles, confidence)\n",
    "                    if feedback:\n",
    "                        voice.speak(feedback[0])\n",
    "                        cv2.putText(frame, feedback[0], (30, 50),\n",
    "                                    cv2.FONT_HERSHEY_SIMPLEX, 1.0, (0, 0, 255), 2)\n",
    "                        last_feedback = time.time()\n",
    "\n",
    "                # Draw landmarks\n",
    "                mp_drawing.draw_landmarks(\n",
    "                    frame, results.pose_landmarks, mp_pose.POSE_CONNECTIONS,\n",
    "                    landmark_drawing_spec=mp_drawing.DrawingSpec(color=(0, 255, 0), thickness=2),\n",
    "                    connection_drawing_spec=mp_drawing.DrawingSpec(color=(255, 0, 0), thickness=2)\n",
    "                )\n",
    "\n",
    "                # Display pose info\n",
    "                cv2.putText(frame, f\"{pose_name} ({confidence:.2f})\", (30, 30),\n",
    "                            cv2.FONT_HERSHEY_SIMPLEX, 1.0, (0, 255, 0), 2)\n",
    "\n",
    "        cv2.imshow('Yoga Coach (Q to quit)', frame)\n",
    "        if cv2.waitKey(1) & 0xFF == ord('q'):\n",
    "            break\n",
    "\n",
    "    cap.release()\n",
    "    cv2.destroyAllWindows()\n",
    "\n",
    "\n",
    "if __name__ == \"__main__\":\n",
    "    main()"
   ]
  },
  {
   "cell_type": "code",
   "execution_count": null,
   "id": "905be27b-f59e-4b9d-8f74-b75083f806c0",
   "metadata": {},
   "outputs": [],
   "source": []
  },
  {
   "cell_type": "code",
   "execution_count": null,
   "id": "21b38e41-e95d-4ca2-b665-9eb9ffeeaf8e",
   "metadata": {},
   "outputs": [],
   "source": []
  },
  {
   "cell_type": "code",
   "execution_count": null,
   "id": "c1915158-8a9e-446c-a6b9-3b8c6a63c37e",
   "metadata": {},
   "outputs": [],
   "source": []
  }
 ],
 "metadata": {
  "kernelspec": {
   "display_name": "Python 3",
   "language": "python",
   "name": "python3"
  },
  "language_info": {
   "codemirror_mode": {
    "name": "ipython",
    "version": 3
   },
   "file_extension": ".py",
   "mimetype": "text/x-python",
   "name": "python",
   "nbconvert_exporter": "python",
   "pygments_lexer": "ipython3",
   "version": "3.10.4"
  }
 },
 "nbformat": 4,
 "nbformat_minor": 5
}
